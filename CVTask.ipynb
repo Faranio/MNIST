{
 "cells": [
  {
   "cell_type": "markdown",
   "metadata": {},
   "source": [
    "### Computer Vision Internship Program\n"
   ]
  },
  {
   "cell_type": "markdown",
   "metadata": {},
   "source": [
    "\n",
    "#### Practical Task description:\n",
    "Your task is to write to a pipeline to classify images from MNIST dataset\n",
    "(http://yann.lecun.com/exdb/mnist/)  using Neural Networks!\n",
    "\n"
   ]
  },
  {
   "cell_type": "markdown",
   "metadata": {},
   "source": [
    "![alt text](mnist.png \"Title\")"
   ]
  },
  {
   "cell_type": "markdown",
   "metadata": {},
   "source": [
    "\n",
    "##### To complete this task, you will have to implement the following steps:\n",
    "<br> 1. Download and read the data - 10 points\n",
    "<br> 2. Show how you use augmentation functions. To get the points, visualize the original image vs augmented image using 4 augmentation techniques of your choice - 10 points\n",
    "<br> 3. Implement a Neural Network which classifies given images. You can use any deep learning framework - 10 points\n",
    "<br> 4. Implement a training procedure using your dataloader, augmentation functions and neural network - 10 points\n",
    "<br> 5. Plot loss graph - 10 points\n",
    "<br> 6. Print accuracy of your model on test set -  10 points\n",
    "<br> 7. Show us how your model works! Plot a few input images and corresponding predictions of your model - 10 points\n",
    "<br> 8. Upload your work to github - 5 points. Google/dropbox/yandex drive - 0 points\n",
    "\n",
    "Max = 75 points!\n",
    "\n",
    "##### Main notes:\n",
    "<br> *- implement your work in provided jupyter notebook \n",
    "<br> - you can use any framework \n",
    "<br> - we are not too strict about the requirements: if your work corresponds to the task wording, the chances are you will get the full points*\n",
    "\n",
    "\n",
    "Please, upload to a google/dropbox/yandex drive or github  and send the link to the following google form: https://docs.google.com/forms/d/e/1FAIpQLSeeYILriugs1Vdxa3r01nS1469VT-_t_ZCNF18zwQVl-XKkHQ/viewform?usp=sf_link \n",
    "\n",
    "If you have any questions, please mail to:\n",
    "olzhas.kabdolov@btsdigital.kz and rustem.burkhanov@btsdigital.kz \n",
    "\n",
    "**The deadline is 27th of May, 12 o'Clock in the noon**\n",
    "\n",
    "\n",
    "####  Good luck and have fun!\n"
   ]
  },
  {
   "cell_type": "markdown",
   "metadata": {},
   "source": [
    "##### Task 1. Dataloader"
   ]
  },
  {
   "cell_type": "code",
   "execution_count": 1,
   "metadata": {},
   "outputs": [
    {
     "name": "stderr",
     "output_type": "stream",
     "text": [
      "Using TensorFlow backend.\n"
     ]
    }
   ],
   "source": [
    "# Importing neccessary packages\n",
    "\n",
    "import cv2\n",
    "from PIL import Image\n",
    "import keras\n",
    "import numpy as np\n",
    "import matplotlib.pyplot as plt\n",
    "from mlxtend.data import loadlocal_mnist\n",
    "from keras import backend as K\n",
    "from keras.utils.np_utils import to_categorical\n",
    "from keras.preprocessing.image import ImageDataGenerator\n",
    "from keras.applications.imagenet_utils import preprocess_input\n",
    "from keras.preprocessing import image\n",
    "\n",
    "# Loading training data\n",
    "\n",
    "X_train, y_train = loadlocal_mnist(images_path = 'train-images-idx3-ubyte', labels_path = 'train-labels-idx1-ubyte')\n",
    "\n",
    "# Loading testing data\n",
    "\n",
    "X_test, y_test = loadlocal_mnist(images_path = 't10k-images-idx3-ubyte', labels_path = 't10k-labels-idx1-ubyte')\n",
    "X_train = X_train.reshape(X_train.shape[0], 28, 28, 1)\n",
    "X_test = X_test.reshape(X_test.shape[0], 28, 28, 1)\n",
    "X_train = X_train.astype('float32')\n",
    "X_test = X_test.astype('float32')\n",
    "\n",
    "m = X_train.shape[0]"
   ]
  },
  {
   "cell_type": "markdown",
   "metadata": {},
   "source": [
    "##### Task 2. Augmentation"
   ]
  },
  {
   "cell_type": "code",
   "execution_count": 2,
   "metadata": {},
   "outputs": [
    {
     "name": "stdout",
     "output_type": "stream",
     "text": [
      "Shape of training dataset X: (60000, 28, 28, 1)\n",
      "Shape of training labels y: (60000,)\n",
      "Shape of testing dataset X: (10000, 28, 28, 1)\n",
      "Shape of testing labels y: (10000,)\n"
     ]
    },
    {
     "name": "stderr",
     "output_type": "stream",
     "text": [
      "/home/faranio/.local/lib/python3.6/site-packages/keras_preprocessing/image/image_data_generator.py:334: UserWarning: This ImageDataGenerator specifies `zca_whitening`, which overrides setting of `featurewise_center`.\n",
      "  warnings.warn('This ImageDataGenerator specifies '\n"
     ]
    },
    {
     "data": {
      "image/png": "[encoded data removed]",
      "text/plain": [
       "<Figure size 2016x2016 with 5 Axes>"
      ]
     },
     "metadata": {
      "needs_background": "light"
     },
     "output_type": "display_data"
    },
    {
     "name": "stdout",
     "output_type": "stream",
     "text": [
      "Shape of augmented training dataset X: (300000, 28, 28, 1)\n",
      "Shape of augmented testing dataset y: (300000,)\n"
     ]
    }
   ],
   "source": [
    "# Printing shapes of training and testing data\n",
    "# May take 2-4 minutes\n",
    "\n",
    "print(\"Shape of training dataset X: \" + str(X_train.shape)) #(60000, 784)\n",
    "print(\"Shape of training labels y: \" + str(y_train.shape)) #(60000, )\n",
    "print(\"Shape of testing dataset X: \" + str(X_test.shape)) #(10000, 784)\n",
    "print(\"Shape of testing labels y: \" + str(y_test.shape)) #(10000, )\n",
    "\n",
    "# Plotting the training image example\n",
    "\n",
    "fig = plt.figure(figsize = (28, 28))\n",
    "columns = 5\n",
    "rows = 1\n",
    "\n",
    "K.set_image_dim_ordering('tf')\n",
    "\n",
    "fig.add_subplot(rows, columns, 1)\n",
    "plt.title('Original image, label is {label}'.format(label = y_train[0]))\n",
    "plt.imshow(X_train[0].reshape(28, 28), cmap = plt.get_cmap('gray'))\n",
    "\n",
    "# Data augmentation technique 1: ZCA Whitening\n",
    " \n",
    "image_generator = ImageDataGenerator(zca_whitening = True)\n",
    "\n",
    "image_generator.fit(X_train)\n",
    "X_train_augmented_1 = X_train.copy()\n",
    "y_train_augmented_1 = y_train.copy()\n",
    "X_train_augmented_1 = image_generator.flow(X_train_augmented_1, np.zeros(m), batch_size = m, shuffle = False).next()[0]\n",
    "\n",
    "fig.add_subplot(rows, columns, 2)\n",
    "plt.title('ZCA Whitening, label is {label}'.format(label = y_train_augmented_1[0]))\n",
    "plt.imshow(X_train_augmented_1[0].reshape(28, 28), cmap = plt.get_cmap('gray'))\n",
    "\n",
    "# Data augmentation technique 2: Shift\n",
    "\n",
    "image_generator = ImageDataGenerator(width_shift_range = 0.2, height_shift_range = 0.2)\n",
    "\n",
    "image_generator.fit(X_train)\n",
    "X_train_augmented_2 = X_train.copy()\n",
    "y_train_augmented_2 = y_train.copy()\n",
    "X_train_augmented_2 = image_generator.flow(X_train_augmented_2, np.zeros(m), batch_size = m, shuffle = False).next()[0]\n",
    "\n",
    "fig.add_subplot(rows, columns, 3)\n",
    "plt.title('Shift, label is {label}'.format(label = y_train_augmented_2[0]))\n",
    "plt.imshow(X_train_augmented_2[0].reshape(28, 28), cmap = plt.get_cmap('gray'))\n",
    "\n",
    "# Data augmentation technique 3: Rotation\n",
    "\n",
    "image_generator = ImageDataGenerator(rotation_range = 30)\n",
    "\n",
    "image_generator.fit(X_train)\n",
    "X_train_augmented_3 = X_train.copy()\n",
    "y_train_augmented_3 = y_train.copy()\n",
    "X_train_augmented_3 = image_generator.flow(X_train_augmented_3, np.zeros(m), batch_size = m, shuffle = False).next()[0]\n",
    "\n",
    "fig.add_subplot(rows, columns, 4)\n",
    "plt.title('Rotation, label is {label}'.format(label = y_train_augmented_3[0]))\n",
    "plt.imshow(X_train_augmented_3[0].reshape(28, 28), cmap = plt.get_cmap('gray'))\n",
    "\n",
    "# Data augmentation technique 4: Shear\n",
    "\n",
    "image_generator = ImageDataGenerator(shear_range = 50)\n",
    "\n",
    "image_generator.fit(X_train)\n",
    "X_train_augmented_4 = X_train.copy()\n",
    "y_train_augmented_4 = y_train.copy()\n",
    "X_train_augmented_4 = image_generator.flow(X_train_augmented_4, np.zeros(m), batch_size = m, shuffle = False).next()[0]\n",
    "\n",
    "fig.add_subplot(rows, columns, 5)\n",
    "plt.title('Shear, label is {label}'.format(label = y_train_augmented_4[0]))\n",
    "plt.imshow(X_train_augmented_4[0].reshape(28, 28), cmap = plt.get_cmap('gray'))\n",
    "plt.show()\n",
    "\n",
    "# Adding the augmented data into the original dataset\n",
    "\n",
    "X_train = np.concatenate((X_train, X_train_augmented_1))\n",
    "y_train = np.concatenate((y_train, y_train_augmented_1))\n",
    "X_train = np.concatenate((X_train, X_train_augmented_2))\n",
    "y_train = np.concatenate((y_train, y_train_augmented_2))\n",
    "X_train = np.concatenate((X_train, X_train_augmented_3))\n",
    "y_train = np.concatenate((y_train, y_train_augmented_3))\n",
    "X_train = np.concatenate((X_train, X_train_augmented_4))\n",
    "y_train = np.concatenate((y_train, y_train_augmented_4))\n",
    "m = X_train.shape[0]\n",
    "\n",
    "print(\"Shape of augmented training dataset X: \" + str(X_train.shape))\n",
    "print(\"Shape of augmented testing dataset y: \" + str(y_train.shape))"
   ]
  },
  {
   "cell_type": "markdown",
   "metadata": {},
   "source": [
    "##### Task 3. Neural Network"
   ]
  },
  {
   "cell_type": "code",
   "execution_count": 3,
   "metadata": {},
   "outputs": [
    {
     "name": "stdout",
     "output_type": "stream",
     "text": [
      "_________________________________________________________________\n",
      "Layer (type)                 Output Shape              Param #   \n",
      "=================================================================\n",
      "conv2d_1 (Conv2D)            (None, 30, 30, 6)         60        \n",
      "_________________________________________________________________\n",
      "average_pooling2d_1 (Average (None, 15, 15, 6)         0         \n",
      "_________________________________________________________________\n",
      "conv2d_2 (Conv2D)            (None, 13, 13, 16)        880       \n",
      "_________________________________________________________________\n",
      "average_pooling2d_2 (Average (None, 6, 6, 16)          0         \n",
      "_________________________________________________________________\n",
      "flatten_1 (Flatten)          (None, 576)               0         \n",
      "_________________________________________________________________\n",
      "dense_1 (Dense)              (None, 120)               69240     \n",
      "_________________________________________________________________\n",
      "dense_2 (Dense)              (None, 84)                10164     \n",
      "_________________________________________________________________\n",
      "dense_3 (Dense)              (None, 10)                850       \n",
      "=================================================================\n",
      "Total params: 81,194\n",
      "Trainable params: 81,194\n",
      "Non-trainable params: 0\n",
      "_________________________________________________________________\n"
     ]
    }
   ],
   "source": [
    "# Padding the dataset in order to pass it to LeNet-5 CNN architecture\n",
    "# May take 3-5 minutes\n",
    "\n",
    "X_train = np.pad(X_train, ((0, 0),(2, 2), (2, 2), (0, 0)), 'constant')\n",
    "X_test = np.pad(X_test, ((0, 0),(2, 2), (2, 2),(0, 0)), 'constant')\n",
    "y_train = to_categorical(y_train)\n",
    "y_test = to_categorical(y_test)\n",
    "\n",
    "# Implementing the LeNet-5 CNN architecture model with Keras\n",
    "\n",
    "model = keras.Sequential()\n",
    "\n",
    "model.add(keras.layers.Conv2D(filters = 6, kernel_size = (3, 3), activation = 'relu', input_shape = (32, 32, 1)))\n",
    "model.add(keras.layers.AveragePooling2D())\n",
    "\n",
    "model.add(keras.layers.Conv2D(filters = 16, kernel_size = (3, 3), activation = 'relu'))\n",
    "model.add(keras.layers.AveragePooling2D())\n",
    "\n",
    "model.add(keras.layers.Flatten())\n",
    "\n",
    "model.add(keras.layers.Dense(units = 120, activation = 'relu'))\n",
    "\n",
    "model.add(keras.layers.Dense(units = 84, activation = 'relu'))\n",
    "\n",
    "model.add(keras.layers.Dense(units = 10, activation = 'softmax'))\n",
    "\n",
    "# Showing the summary of LeNet-5 CNN architecture model\n",
    "\n",
    "model.summary()"
   ]
  },
  {
   "cell_type": "markdown",
   "metadata": {},
   "source": [
    "##### Task 4. Train loop"
   ]
  },
  {
   "cell_type": "code",
   "execution_count": 4,
   "metadata": {},
   "outputs": [
    {
     "name": "stdout",
     "output_type": "stream",
     "text": [
      "Epoch 1/10\n",
      "585/585 [==============================] - 45s 76ms/step - loss: 0.6605 - acc: 0.8077\n",
      "Epoch 2/10\n",
      "585/585 [==============================] - 44s 75ms/step - loss: 0.1931 - acc: 0.9406\n",
      "Epoch 3/10\n",
      "585/585 [==============================] - 45s 77ms/step - loss: 0.1263 - acc: 0.9612\n",
      "Epoch 4/10\n",
      "585/585 [==============================] - 45s 77ms/step - loss: 0.0945 - acc: 0.9709\n",
      "Epoch 5/10\n",
      "585/585 [==============================] - 46s 79ms/step - loss: 0.0766 - acc: 0.9761\n",
      "Epoch 6/10\n",
      "585/585 [==============================] - 46s 78ms/step - loss: 0.0655 - acc: 0.9795\n",
      "Epoch 7/10\n",
      "585/585 [==============================] - 47s 80ms/step - loss: 0.0572 - acc: 0.9818\n",
      "Epoch 8/10\n",
      "585/585 [==============================] - 47s 81ms/step - loss: 0.0507 - acc: 0.9839\n",
      "Epoch 9/10\n",
      "585/585 [==============================] - 46s 78ms/step - loss: 0.0445 - acc: 0.9858\n",
      "Epoch 10/10\n",
      "585/585 [==============================] - 47s 81ms/step - loss: 0.0401 - acc: 0.9870\n"
     ]
    },
    {
     "data": {
      "text/plain": [
       "<keras.callbacks.History at 0x7fb119dbd278>"
      ]
     },
     "execution_count": 4,
     "metadata": {},
     "output_type": "execute_result"
    }
   ],
   "source": [
    "# Training the LeNet-5 CNN architecture model on augmented training dataset X\n",
    "# May take 5-10 minutes\n",
    "\n",
    "model.compile(loss = keras.losses.categorical_crossentropy, optimizer = keras.optimizers.Adam(), metrics = ['accuracy'])\n",
    "EPOCHS = 10\n",
    "BATCH_SIZE = 512\n",
    "train_generator = ImageDataGenerator().flow(X_train, y_train, batch_size = BATCH_SIZE)\n",
    "steps_per_epoch = X_train.shape[0] // BATCH_SIZE\n",
    "model.fit_generator(train_generator, steps_per_epoch = steps_per_epoch, epochs = EPOCHS)"
   ]
  },
  {
   "cell_type": "markdown",
   "metadata": {},
   "source": [
    "##### Task 5. Loss plot"
   ]
  },
  {
   "cell_type": "code",
   "execution_count": 5,
   "metadata": {},
   "outputs": [
    {
     "name": "stdout",
     "output_type": "stream",
     "text": [
      "dict_keys(['loss', 'acc'])\n"
     ]
    },
    {
     "data": {
      "image/png": "[encoded data removed]",
      "text/plain": [
       "<Figure size 432x288 with 1 Axes>"
      ]
     },
     "metadata": {
      "needs_background": "light"
     },
     "output_type": "display_data"
    }
   ],
   "source": [
    "# Plotting the loss graph of the LeNet-5 CNN architecture model\n",
    "# May take 7-15 minutes\n",
    "\n",
    "history = model.fit(X_train, y_train, epochs = EPOCHS, batch_size = BATCH_SIZE, verbose = 0)\n",
    "print(history.history.keys())\n",
    "plt.plot(history.history['loss'])\n",
    "plt.title('Loss plot')\n",
    "plt.ylabel('Loss')\n",
    "plt.xlabel('Epoch')\n",
    "plt.legend(['Train'], loc = 'upper left')\n",
    "plt.show()"
   ]
  },
  {
   "cell_type": "markdown",
   "metadata": {},
   "source": [
    "##### Task 6. Test set accuracy"
   ]
  },
  {
   "cell_type": "code",
   "execution_count": 6,
   "metadata": {},
   "outputs": [
    {
     "name": "stdout",
     "output_type": "stream",
     "text": [
      "10000/10000 [==============================] - 1s 106us/step\n",
      "Test set loss: 0.037812632509786996\n",
      "Test set accuracy: 0.9913\n"
     ]
    }
   ],
   "source": [
    "# Printing the test set accuracy of the model\n",
    "\n",
    "score = model.evaluate(X_test, y_test)\n",
    "print('Test set loss:', score[0])\n",
    "print('Test set accuracy:', score[1])"
   ]
  },
  {
   "cell_type": "markdown",
   "metadata": {},
   "source": [
    "##### Task 7. Inference"
   ]
  },
  {
   "cell_type": "code",
   "execution_count": 7,
   "metadata": {},
   "outputs": [
    {
     "data": {
      "text/plain": [
       "<matplotlib.image.AxesImage at 0x7fb11b908eb8>"
      ]
     },
     "execution_count": 7,
     "metadata": {},
     "output_type": "execute_result"
    },
    {
     "data": {
      "image/png": "[encoded data removed]",
      "text/plain": [
       "<Figure size 2304x2304 with 5 Axes>"
      ]
     },
     "metadata": {
      "needs_background": "light"
     },
     "output_type": "display_data"
    }
   ],
   "source": [
    "# Making a prediction on 5 input images\n",
    "\n",
    "fig = plt.figure(figsize = (32, 32))\n",
    "columns = 1\n",
    "rows = 5\n",
    "\n",
    "img_path = 'image1.jpg'\n",
    "img = image.load_img(img_path, target_size = (28, 28))\n",
    "gray = img.convert('L')\n",
    "bw = np.asarray(gray).copy()\n",
    "bw[bw < 128] = 0\n",
    "bw[bw >= 128] = 255\n",
    "x = image.img_to_array(bw)\n",
    "x = np.expand_dims(x, axis = 0)\n",
    "x = np.pad(x, ((0, 0),(2, 2), (2, 2), (0, 0)), 'constant')\n",
    "fig.add_subplot(rows, columns, 1)\n",
    "plt.title('Label is {label}'.format(label = np.argmax(model.predict(x))))\n",
    "plt.imshow(x.reshape(32, 32), cmap = plt.get_cmap('gray'))\n",
    "\n",
    "img_path = 'image2.jpg'\n",
    "img = image.load_img(img_path, target_size = (28, 28))\n",
    "gray = img.convert('L')\n",
    "bw = np.asarray(gray).copy()\n",
    "bw[bw < 128] = 0\n",
    "bw[bw >= 128] = 255 \n",
    "x = image.img_to_array(bw)\n",
    "x = np.expand_dims(x, axis = 0)\n",
    "x = np.pad(x, ((0, 0),(2, 2), (2, 2), (0, 0)), 'constant')\n",
    "fig.add_subplot(rows, columns, 2)\n",
    "plt.title('Label is {label}'.format(label = np.argmax(model.predict(x))))\n",
    "plt.imshow(x.reshape(32, 32), cmap = plt.get_cmap('gray'))\n",
    "\n",
    "img_path = 'image3.jpg'\n",
    "img = image.load_img(img_path, target_size = (28, 28))\n",
    "gray = img.convert('L')\n",
    "bw = np.asarray(gray).copy()\n",
    "bw[bw < 128] = 0  \n",
    "bw[bw >= 128] = 255 \n",
    "x = image.img_to_array(bw)\n",
    "x = np.expand_dims(x, axis = 0)\n",
    "x = np.pad(x, ((0, 0),(2, 2), (2, 2), (0, 0)), 'constant')\n",
    "fig.add_subplot(rows, columns, 3)\n",
    "plt.title('Label is {label}'.format(label = np.argmax(model.predict(x))))\n",
    "plt.imshow(x.reshape(32, 32), cmap = plt.get_cmap('gray'))\n",
    "\n",
    "img_path = 'image4.jpg'\n",
    "img = image.load_img(img_path, target_size = (28, 28))\n",
    "gray = img.convert('L')\n",
    "bw = np.asarray(gray).copy()\n",
    "bw[bw < 128] = 0  \n",
    "bw[bw >= 128] = 255 \n",
    "x = image.img_to_array(bw)\n",
    "x = np.expand_dims(x, axis = 0)\n",
    "x = np.pad(x, ((0, 0),(2, 2), (2, 2), (0, 0)), 'constant')\n",
    "fig.add_subplot(rows, columns, 4)\n",
    "plt.title('Label is {label}'.format(label = np.argmax(model.predict(x))))\n",
    "plt.imshow(x.reshape(32, 32), cmap = plt.get_cmap('gray'))\n",
    "\n",
    "img_path = 'image5.jpg'\n",
    "img = image.load_img(img_path, target_size = (28, 28))\n",
    "gray = img.convert('L')\n",
    "bw = np.asarray(gray).copy()\n",
    "bw[bw < 128] = 0  \n",
    "bw[bw >= 128] = 255\n",
    "x = image.img_to_array(bw)\n",
    "x = np.expand_dims(x, axis = 0)\n",
    "x = np.pad(x, ((0, 0),(2, 2), (2, 2), (0, 0)), 'constant')\n",
    "fig.add_subplot(rows, columns, 5)\n",
    "plt.title('Label is {label}'.format(label = np.argmax(model.predict(x))))\n",
    "plt.imshow(x.reshape(32, 32), cmap = plt.get_cmap('gray'))"
   ]
  }
 ],
 "metadata": {
  "kernelspec": {
   "display_name": "Python 3",
   "language": "python",
   "name": "python3"
  },
  "language_info": {
   "codemirror_mode": {
    "name": "ipython",
    "version": 3
   },
   "file_extension": ".py",
   "mimetype": "text/x-python",
   "name": "python",
   "nbconvert_exporter": "python",
   "pygments_lexer": "ipython3",
   "version": "3.6.7"
  }
 },
 "nbformat": 4,
 "nbformat_minor": 2
}
